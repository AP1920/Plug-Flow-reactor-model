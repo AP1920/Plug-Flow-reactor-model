{
 "cells": [
  {
   "cell_type": "markdown",
   "id": "f58ee9ae",
   "metadata": {},
   "source": [
    "### Plug flow reactor model for simulating the steam reforming of CH4"
   ]
  },
  {
   "cell_type": "markdown",
   "id": "e07392ea",
   "metadata": {},
   "source": [
    "#### Known Parameters(Units in SI)"
   ]
  },
  {
   "cell_type": "code",
   "execution_count": 312,
   "id": "d0446fe9",
   "metadata": {},
   "outputs": [
    {
     "data": {
      "text/plain": [
       "8.314"
      ]
     },
     "execution_count": 312,
     "metadata": {},
     "output_type": "execute_result"
    }
   ],
   "source": [
    "Er1=280944      #Activation Energy(J/mol)\n",
    "L=0.027         #Length of reactor(m)\n",
    "D=0.01          #Diameter of reactor(m)\n",
    "Q=6E-05         #Feed flow rate(m3/sec)\n",
    "P=1E+05         #Pressure(Pascals)\n",
    "R=8.314\n"
   ]
  },
  {
   "cell_type": "markdown",
   "id": "94789c81",
   "metadata": {},
   "source": [
    "#### Optimized Parameter"
   ]
  },
  {
   "cell_type": "code",
   "execution_count": 313,
   "id": "7f0543cb",
   "metadata": {},
   "outputs": [
    {
     "data": {
      "text/plain": [
       "0.4"
      ]
     },
     "execution_count": 313,
     "metadata": {},
     "output_type": "execute_result"
    }
   ],
   "source": [
    "kro=1e+6         #Pre-exponential Factor(mol/m2.s)\n",
    "δ=0.4            #Catalyst surface area factor"
   ]
  },
  {
   "cell_type": "markdown",
   "id": "d911b74b",
   "metadata": {},
   "source": [
    "#### Unknown Parameters to be calculated"
   ]
  },
  {
   "cell_type": "code",
   "execution_count": 314,
   "id": "46eaa94a",
   "metadata": {},
   "outputs": [
    {
     "data": {
      "text/plain": [
       "0.06139329154290875"
      ]
     },
     "execution_count": 314,
     "metadata": {},
     "output_type": "execute_result"
    }
   ],
   "source": [
    "#M_species= Molecular mass of species in kg/mol\n",
    "\n",
    "M_ch4=0.016\n",
    "M_h2o=0.018\n",
    "M_h2=0.002\n",
    "M_co=0.028\n",
    "M_he=0.004\n",
    "M_avg=0.016*M_ch4+0.02*M_h2o+0.96*M_he\n",
    "T=873                                          #Temperature(K)\n",
    "ρ=P*M_avg/(R*T)                                #Density(kg/m3)\n",
    "A=(3.14*D^2)/4                                 # Crossectional Area (m2)\n",
    "u=Q/A                                          #Velocity of inlet flow(m/sec)\n",
    "Asl=3.14*D*δ                                   #Surface area perunit length(m)\n",
    "D*ρ*u\n",
    "ρ"
   ]
  },
  {
   "cell_type": "markdown",
   "id": "21a04e8c",
   "metadata": {},
   "source": [
    "#### Calculation of Arrhenius Forward Rate constant "
   ]
  },
  {
   "cell_type": "code",
   "execution_count": 315,
   "id": "16277cae",
   "metadata": {},
   "outputs": [
    {
     "data": {
      "text/plain": [
       "1.5471478584542356e-11"
      ]
     },
     "execution_count": 315,
     "metadata": {},
     "output_type": "execute_result"
    }
   ],
   "source": [
    "Kr1=5E+09                                 #Equilibrium Constant(Pa^2)\n",
    "kr1=kro*exp(-Er1/(R*T))"
   ]
  },
  {
   "cell_type": "markdown",
   "id": "b3cb9050",
   "metadata": {},
   "source": [
    "#### Plug flow Reactor Code"
   ]
  },
  {
   "cell_type": "code",
   "execution_count": 316,
   "id": "403977ce",
   "metadata": {},
   "outputs": [
    {
     "data": {
      "text/plain": [
       "GoverningEqn (generic function with 1 method)"
      ]
     },
     "execution_count": 316,
     "metadata": {},
     "output_type": "execute_result"
    }
   ],
   "source": [
    "function GoverningEqn(dX,X,m,t)\n",
    "    X_ch4,X_h2o,X_h2,X_co = X\n",
    "    #r1=kr1*((p_ch4*p_h2o)-(p_co*p_h2^3)/Kr1)\n",
    "        \n",
    "    r1=kr1*((P^2*X_ch4*X_h2o)-(P^4*X_co*(X_h2^3)/Kr1))\n",
    "    #dX[i]=dX_species=(r1+M_species*Asl*4)/(D*ρ*u)\n",
    "    \n",
    "    dX[1]=dX_ch4=(-r1*M_ch4*Asl*4)/(D*ρ*u)\n",
    "    dX[2]=dX_h2o=(-r1*M_h2o*Asl*4)/(D*ρ*u)\n",
    "    dX[3]=dX_h2=((3*r1)*M_h2*Asl*4)/(D*ρ*u)\n",
    "    dX[4]=dX_co=(r1*M_co*Asl*4)/(D*ρ*u)\n",
    "    dX[5]=dX_he=0\n",
    "end"
   ]
  },
  {
   "cell_type": "markdown",
   "id": "b7105291",
   "metadata": {},
   "source": [
    "#### Using ODE Solver"
   ]
  },
  {
   "cell_type": "code",
   "execution_count": 317,
   "id": "23bba931",
   "metadata": {},
   "outputs": [
    {
     "data": {
      "text/plain": [
       "\u001b[36mODEProblem\u001b[0m with uType \u001b[36mVector{Float64}\u001b[0m and tType \u001b[36mFloat64\u001b[0m. In-place: \u001b[36mtrue\u001b[0m\n",
       "timespan: (0.0, 0.027)\n",
       "u0: 5-element Vector{Float64}:\n",
       " 0.016\n",
       " 0.02\n",
       " 0.0\n",
       " 0.0\n",
       " 0.96"
      ]
     },
     "execution_count": 317,
     "metadata": {},
     "output_type": "execute_result"
    }
   ],
   "source": [
    "using DifferentialEquations\n",
    "X0=[0.016,0.02,0,0,0.96]\n",
    "xspan=[0.0,0.027]\n",
    "prob=ODEProblem(GoverningEqn,X0,xspan)"
   ]
  },
  {
   "cell_type": "markdown",
   "id": "307dedae",
   "metadata": {},
   "source": [
    "####  Results"
   ]
  },
  {
   "cell_type": "code",
   "execution_count": 318,
   "id": "8ea567f8",
   "metadata": {},
   "outputs": [
    {
     "data": {
      "text/plain": [
       "retcode: Success\n",
       "Interpolation: specialized 4th order \"free\" interpolation, specialized 2nd order \"free\" stiffness-aware interpolation\n",
       "t: 2-element Vector{Float64}:\n",
       " 0.0\n",
       " 0.027\n",
       "u: 2-element Vector{Vector{Float64}}:\n",
       " [0.016, 0.02, 0.0, 0.0, 0.96]\n",
       " [0.015997710431607182, 0.01999742423555808, 8.585881473069296e-7, 4.006744687432336e-6, 0.96]"
      ]
     },
     "execution_count": 318,
     "metadata": {},
     "output_type": "execute_result"
    }
   ],
   "source": [
    "sol=solve(prob)"
   ]
  },
  {
   "cell_type": "code",
   "execution_count": null,
   "id": "30056b20",
   "metadata": {},
   "outputs": [],
   "source": []
  },
  {
   "cell_type": "code",
   "execution_count": null,
   "id": "cf23dbb6",
   "metadata": {},
   "outputs": [],
   "source": []
  }
 ],
 "metadata": {
  "kernelspec": {
   "display_name": "Julia 1.6.2",
   "language": "julia",
   "name": "julia-1.6"
  },
  "language_info": {
   "file_extension": ".jl",
   "mimetype": "application/julia",
   "name": "julia",
   "version": "1.6.2"
  }
 },
 "nbformat": 4,
 "nbformat_minor": 5
}
